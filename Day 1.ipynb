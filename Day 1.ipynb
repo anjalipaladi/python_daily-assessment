{
 "cells": [
  {
   "cell_type": "code",
   "execution_count": 8,
   "id": "a7628d24",
   "metadata": {},
   "outputs": [
    {
     "name": "stdout",
     "output_type": "stream",
     "text": [
      "Integer Variable: 23\n",
      "<class 'int'>\n",
      "Float Variable: 3.14\n",
      "<class 'float'>\n",
      "String Variable: Hello,Python!\n",
      "<class 'str'>\n",
      "Boolean Variable: True\n",
      "<class 'bool'>\n"
     ]
    }
   ],
   "source": [
    "#Write a program in Jupyter Notebook to declare variables of different data types (integer, float, string, and boolean). Print each variable and its type.\n",
    "\n",
    "int_a= 23          \n",
    "float_b = 3.14          \n",
    "string_c = \"Hello,Python!\"  \n",
    "boolean_d= True       \n",
    "print(\"Integer Variable:\",int_a)\n",
    "print (type(int_a))\n",
    "print(\"Float Variable:\",float_b)\n",
    "print(type(float_b))\n",
    "print(\"String Variable:\",string_c)\n",
    "print(type(string_c))\n",
    "print(\"Boolean Variable:\",boolean_d)\n",
    "print(type(boolean_d))\n"
   ]
  },
  {
   "cell_type": "code",
   "execution_count": null,
   "id": "1eae5e48",
   "metadata": {},
   "outputs": [],
   "source": []
  }
 ],
 "metadata": {
  "kernelspec": {
   "display_name": "Python 3 (ipykernel)",
   "language": "python",
   "name": "python3"
  },
  "language_info": {
   "codemirror_mode": {
    "name": "ipython",
    "version": 3
   },
   "file_extension": ".py",
   "mimetype": "text/x-python",
   "name": "python",
   "nbconvert_exporter": "python",
   "pygments_lexer": "ipython3",
   "version": "3.9.13"
  }
 },
 "nbformat": 4,
 "nbformat_minor": 5
}
