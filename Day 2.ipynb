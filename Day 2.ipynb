{
 "cells": [
  {
   "cell_type": "code",
   "execution_count": 1,
   "id": "e44515eb",
   "metadata": {},
   "outputs": [
    {
     "name": "stdout",
     "output_type": "stream",
     "text": [
      "Apple\n",
      "Date\n",
      "['Banana', 'Cherry', 'Date']\n",
      "Elderberry\n"
     ]
    }
   ],
   "source": [
    "#Create a List, tuple and Dictionary with 5 elements in it and how to access few elements based on the index. Try  with different examples \n",
    "\n",
    "#List\n",
    "fruits = [\"Apple\", \"Banana\", \"Cherry\", \"Date\", \"Elderberry\"]\n",
    "print(fruits[0])  \n",
    "print(fruits[3]) \n",
    "print(fruits[1:4])  \n",
    "print(fruits[-1]) "
   ]
  },
  {
   "cell_type": "code",
   "execution_count": 2,
   "id": "160f98f0",
   "metadata": {},
   "outputs": [
    {
     "name": "stdout",
     "output_type": "stream",
     "text": [
      "Blue\n",
      "Purple\n",
      "('Red', 'Green', 'Blue')\n",
      "Yellow\n"
     ]
    }
   ],
   "source": [
    "#Tuple\n",
    "colors = (\"Red\", \"Green\", \"Blue\", \"Yellow\", \"Purple\")\n",
    "print(colors[2])  \n",
    "print(colors[4])  \n",
    "print(colors[0:3]) \n",
    "print(colors[-2])  "
   ]
  },
  {
   "cell_type": "code",
   "execution_count": 3,
   "id": "5dd98a5c",
   "metadata": {},
   "outputs": [
    {
     "name": "stdout",
     "output_type": "stream",
     "text": [
      "Ashok\n",
      "Photography\n",
      "dict_keys(['name', 'age', 'city', 'profession', 'hobby'])\n",
      "dict_values(['Ashok', 23, 'Hyderabad', 'Software Engineer', 'Photography'])\n",
      "23\n",
      "Not found\n"
     ]
    }
   ],
   "source": [
    "#Dictionary\n",
    "person = {\n",
    "    \"name\": \"Ashok\",\n",
    "    \"age\": 23,\n",
    "    \"city\": \"Hyderabad\",\n",
    "    \"profession\": \"Software Engineer\",\n",
    "    \"hobby\": \"Photography\"\n",
    "}\n",
    "print(person[\"name\"])       \n",
    "print(person[\"hobby\"])\n",
    "print(person.keys())        \n",
    "print(person.values())     \n",
    "print(person.get(\"age\"))    \n",
    "print(person.get(\"gender\", \"Not found\")) \n"
   ]
  },
  {
   "cell_type": "code",
   "execution_count": null,
   "id": "5ae1c314",
   "metadata": {},
   "outputs": [],
   "source": []
  }
 ],
 "metadata": {
  "kernelspec": {
   "display_name": "Python 3 (ipykernel)",
   "language": "python",
   "name": "python3"
  },
  "language_info": {
   "codemirror_mode": {
    "name": "ipython",
    "version": 3
   },
   "file_extension": ".py",
   "mimetype": "text/x-python",
   "name": "python",
   "nbconvert_exporter": "python",
   "pygments_lexer": "ipython3",
   "version": "3.9.13"
  }
 },
 "nbformat": 4,
 "nbformat_minor": 5
}
